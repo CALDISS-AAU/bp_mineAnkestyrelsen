{
 "cells": [
  {
   "cell_type": "code",
   "execution_count": 2,
   "id": "9766bb64-46a2-4167-87d5-d66f5b357142",
   "metadata": {
    "execution": {
     "iopub.execute_input": "2022-11-16T08:01:55.302823Z",
     "iopub.status.busy": "2022-11-16T08:01:55.301999Z",
     "iopub.status.idle": "2022-11-16T08:02:00.232514Z",
     "shell.execute_reply": "2022-11-16T08:02:00.230844Z",
     "shell.execute_reply.started": "2022-11-16T08:01:55.302764Z"
    },
    "tags": []
   },
   "outputs": [
    {
     "name": "stdout",
     "output_type": "stream",
     "text": [
      "Collecting pdfminer-six\n",
      "  Downloading pdfminer.six-20221105-py3-none-any.whl (5.6 MB)\n",
      "\u001b[2K     \u001b[90m━━━━━━━━━━━━━━━━━━━━━━━━━━━━━━━━━━━━━━━━\u001b[0m \u001b[32m5.6/5.6 MB\u001b[0m \u001b[31m16.0 MB/s\u001b[0m eta \u001b[36m0:00:00\u001b[0m00:01\u001b[0m00:01\u001b[0m\n",
      "\u001b[?25hRequirement already satisfied: cryptography>=36.0.0 in /opt/conda/lib/python3.9/site-packages (from pdfminer-six) (37.0.2)\n",
      "Requirement already satisfied: charset-normalizer>=2.0.0 in /opt/conda/lib/python3.9/site-packages (from pdfminer-six) (2.0.12)\n",
      "Requirement already satisfied: cffi>=1.12 in /opt/conda/lib/python3.9/site-packages (from cryptography>=36.0.0->pdfminer-six) (1.15.0)\n",
      "Requirement already satisfied: pycparser in /opt/conda/lib/python3.9/site-packages (from cffi>=1.12->cryptography>=36.0.0->pdfminer-six) (2.21)\n",
      "Installing collected packages: pdfminer-six\n",
      "Successfully installed pdfminer-six-20221105\n",
      "Note: you may need to restart the kernel to use updated packages.\n"
     ]
    }
   ],
   "source": [
    "pip install pdfminer-six"
   ]
  },
  {
   "cell_type": "code",
   "execution_count": 3,
   "id": "6f771254-4a8b-4165-850d-5ac56e50e666",
   "metadata": {
    "execution": {
     "iopub.execute_input": "2022-11-16T08:02:05.748708Z",
     "iopub.status.busy": "2022-11-16T08:02:05.748020Z",
     "iopub.status.idle": "2022-11-16T08:02:17.624202Z",
     "shell.execute_reply": "2022-11-16T08:02:17.622566Z",
     "shell.execute_reply.started": "2022-11-16T08:02:05.748649Z"
    },
    "tags": []
   },
   "outputs": [
    {
     "name": "stdout",
     "output_type": "stream",
     "text": [
      "Collecting pandas\n",
      "  Downloading pandas-1.5.1-cp39-cp39-manylinux_2_17_x86_64.manylinux2014_x86_64.whl (12.2 MB)\n",
      "\u001b[2K     \u001b[90m━━━━━━━━━━━━━━━━━━━━━━━━━━━━━━━━━━━━━━━━\u001b[0m \u001b[32m12.2/12.2 MB\u001b[0m \u001b[31m24.8 MB/s\u001b[0m eta \u001b[36m0:00:00\u001b[0m00:01\u001b[0m00:01\u001b[0m\n",
      "\u001b[?25hRequirement already satisfied: pytz>=2020.1 in /opt/conda/lib/python3.9/site-packages (from pandas) (2022.1)\n",
      "Requirement already satisfied: python-dateutil>=2.8.1 in /opt/conda/lib/python3.9/site-packages (from pandas) (2.8.2)\n",
      "Requirement already satisfied: numpy>=1.20.3 in /opt/conda/lib/python3.9/site-packages (from pandas) (1.22.4)\n",
      "Requirement already satisfied: six>=1.5 in /opt/conda/lib/python3.9/site-packages (from python-dateutil>=2.8.1->pandas) (1.16.0)\n",
      "Installing collected packages: pandas\n",
      "Successfully installed pandas-1.5.1\n",
      "Note: you may need to restart the kernel to use updated packages.\n"
     ]
    }
   ],
   "source": [
    "pip install pandas"
   ]
  },
  {
   "cell_type": "code",
   "execution_count": 4,
   "id": "9eb0f274-fda1-4543-bd3f-a9ed570ea8db",
   "metadata": {
    "execution": {
     "iopub.execute_input": "2022-11-16T08:02:17.638410Z",
     "iopub.status.busy": "2022-11-16T08:02:17.637700Z",
     "iopub.status.idle": "2022-11-16T08:02:24.223016Z",
     "shell.execute_reply": "2022-11-16T08:02:24.221172Z",
     "shell.execute_reply.started": "2022-11-16T08:02:17.638376Z"
    },
    "tags": []
   },
   "outputs": [
    {
     "name": "stdout",
     "output_type": "stream",
     "text": [
      "Collecting nltk\n",
      "  Downloading nltk-3.7-py3-none-any.whl (1.5 MB)\n",
      "\u001b[2K     \u001b[90m━━━━━━━━━━━━━━━━━━━━━━━━━━━━━━━━━━━━━━━━\u001b[0m \u001b[32m1.5/1.5 MB\u001b[0m \u001b[31m13.8 MB/s\u001b[0m eta \u001b[36m0:00:00\u001b[0m00:01\u001b[0m0:01\u001b[0m\n",
      "\u001b[?25hCollecting joblib\n",
      "  Downloading joblib-1.2.0-py3-none-any.whl (297 kB)\n",
      "\u001b[2K     \u001b[90m━━━━━━━━━━━━━━━━━━━━━━━━━━━━━━━━━━━━━━━\u001b[0m \u001b[32m298.0/298.0 kB\u001b[0m \u001b[31m5.3 MB/s\u001b[0m eta \u001b[36m0:00:00\u001b[0m00:01\u001b[0m\n",
      "\u001b[?25hRequirement already satisfied: click in /opt/conda/lib/python3.9/site-packages (from nltk) (8.1.3)\n",
      "Collecting regex>=2021.8.3\n",
      "  Downloading regex-2022.10.31-cp39-cp39-manylinux_2_17_x86_64.manylinux2014_x86_64.whl (769 kB)\n",
      "\u001b[2K     \u001b[90m━━━━━━━━━━━━━━━━━━━━━━━━━━━━━━━━━━━━━━\u001b[0m \u001b[32m770.0/770.0 kB\u001b[0m \u001b[31m12.8 MB/s\u001b[0m eta \u001b[36m0:00:00\u001b[0m00:01\u001b[0m\n",
      "\u001b[?25hRequirement already satisfied: tqdm in /opt/conda/lib/python3.9/site-packages (from nltk) (4.64.0)\n",
      "Installing collected packages: regex, joblib, nltk\n",
      "Successfully installed joblib-1.2.0 nltk-3.7 regex-2022.10.31\n",
      "Note: you may need to restart the kernel to use updated packages.\n"
     ]
    }
   ],
   "source": [
    "pip install nltk "
   ]
  },
  {
   "cell_type": "code",
   "execution_count": 6,
   "id": "0a1a4ee7-3032-445b-9bc9-ba64c3bb4c79",
   "metadata": {
    "execution": {
     "iopub.execute_input": "2022-11-16T10:53:12.170764Z",
     "iopub.status.busy": "2022-11-16T10:53:12.170278Z",
     "iopub.status.idle": "2022-11-16T10:53:12.177404Z",
     "shell.execute_reply": "2022-11-16T10:53:12.176448Z",
     "shell.execute_reply.started": "2022-11-16T10:53:12.170727Z"
    },
    "tags": []
   },
   "outputs": [],
   "source": [
    "from pdfminer.high_level import extract_text\n",
    "import re\n",
    "import os\n",
    "from os.path import join\n",
    "from nltk.tokenize import word_tokenize\n",
    "from nltk.tokenize import sent_tokenize \n",
    "from nltk.tokenize import regexp_tokenize\n",
    "import pandas as pd\n",
    "import json"
   ]
  },
  {
   "cell_type": "code",
   "execution_count": 2,
   "id": "0debeb40-45fc-43cb-b121-aefa96ff2684",
   "metadata": {
    "execution": {
     "iopub.execute_input": "2022-11-16T09:56:18.979079Z",
     "iopub.status.busy": "2022-11-16T09:56:18.978258Z",
     "iopub.status.idle": "2022-11-16T09:56:19.034926Z",
     "shell.execute_reply": "2022-11-16T09:56:19.033475Z",
     "shell.execute_reply.started": "2022-11-16T09:56:18.979024Z"
    },
    "tags": []
   },
   "outputs": [],
   "source": [
    "#data_dir = join('..', 'data')\n",
    "#pdf_files = [file for file in os.listdir(data_dir) if file.endswith('.pdf')]"
   ]
  },
  {
   "cell_type": "code",
   "execution_count": 3,
   "id": "e46c379c-5b3a-4fa6-bfd4-f1fc6228ca21",
   "metadata": {
    "execution": {
     "iopub.execute_input": "2022-11-16T09:56:20.406486Z",
     "iopub.status.busy": "2022-11-16T09:56:20.405810Z",
     "iopub.status.idle": "2022-11-16T09:57:43.171607Z",
     "shell.execute_reply": "2022-11-16T09:57:43.170783Z",
     "shell.execute_reply.started": "2022-11-16T09:56:20.406432Z"
    },
    "tags": []
   },
   "outputs": [],
   "source": [
    "#all_files = []\n",
    "#\n",
    "#for pdf in pdf_files:\n",
    "#    pdf_dir = {}\n",
    "#    \n",
    "#    file_p = join(data_dir, pdf)\n",
    "#    text = extract_text(file_p)\n",
    "#    \n",
    "#    pdf_dir['filename'] = pdf\n",
    "#    pdf_dir['text'] = text\n",
    "#    \n",
    "#    all_files.append(pdf_dir)"
   ]
  },
  {
   "cell_type": "code",
   "execution_count": 11,
   "id": "1d2dc6cf-4bcd-4b64-9da5-cb1c36b876e2",
   "metadata": {
    "execution": {
     "iopub.execute_input": "2022-11-16T10:57:49.779847Z",
     "iopub.status.busy": "2022-11-16T10:57:49.779344Z",
     "iopub.status.idle": "2022-11-16T10:57:49.795707Z",
     "shell.execute_reply": "2022-11-16T10:57:49.794588Z",
     "shell.execute_reply.started": "2022-11-16T10:57:49.779821Z"
    },
    "tags": []
   },
   "outputs": [],
   "source": [
    "data_p = join('..', 'data', 'afgørelser_split.json')\n",
    "\n",
    "with open(data_p, 'r') as f:\n",
    "    data = json.load(f)"
   ]
  },
  {
   "cell_type": "code",
   "execution_count": 4,
   "id": "3d5f0a17-dd28-437f-a8f2-0bdd19f75470",
   "metadata": {
    "execution": {
     "iopub.execute_input": "2022-11-16T09:57:43.256205Z",
     "iopub.status.busy": "2022-11-16T09:57:43.256001Z",
     "iopub.status.idle": "2022-11-16T09:57:43.260028Z",
     "shell.execute_reply": "2022-11-16T09:57:43.259458Z",
     "shell.execute_reply.started": "2022-11-16T09:57:43.256187Z"
    },
    "tags": []
   },
   "outputs": [],
   "source": [
    "a_text = data[0]"
   ]
  },
  {
   "cell_type": "code",
   "execution_count": 5,
   "id": "36bf6c8f-16e7-4554-98b8-784e0de46e36",
   "metadata": {
    "execution": {
     "iopub.execute_input": "2022-11-16T09:57:43.262074Z",
     "iopub.status.busy": "2022-11-16T09:57:43.261879Z",
     "iopub.status.idle": "2022-11-16T09:57:43.282791Z",
     "shell.execute_reply": "2022-11-16T09:57:43.282023Z",
     "shell.execute_reply.started": "2022-11-16T09:57:43.262056Z"
    },
    "tags": []
   },
   "outputs": [
    {
     "data": {
      "text/plain": [
       "'5 - Brev fra Ankestyrelsen (D3165783).pdf'"
      ]
     },
     "execution_count": 5,
     "metadata": {},
     "output_type": "execute_result"
    }
   ],
   "source": [
    "a_text.get('filename')"
   ]
  },
  {
   "cell_type": "code",
   "execution_count": 10,
   "id": "b5454d74-f6c3-41e7-9406-fd6363743583",
   "metadata": {
    "execution": {
     "iopub.execute_input": "2022-11-16T08:09:44.814561Z",
     "iopub.status.busy": "2022-11-16T08:09:44.813085Z",
     "iopub.status.idle": "2022-11-16T08:09:44.821176Z",
     "shell.execute_reply": "2022-11-16T08:09:44.819953Z",
     "shell.execute_reply.started": "2022-11-16T08:09:44.814497Z"
    },
    "tags": []
   },
   "outputs": [],
   "source": [
    "split = a_text.get('text').split('\\uf0b7')"
   ]
  },
  {
   "cell_type": "code",
   "execution_count": 11,
   "id": "93cd6f14-cfcd-4021-ae63-dea11d4d8f4e",
   "metadata": {
    "execution": {
     "iopub.execute_input": "2022-11-15T08:43:17.138544Z",
     "iopub.status.busy": "2022-11-15T08:43:17.137849Z",
     "iopub.status.idle": "2022-11-15T08:43:17.149309Z",
     "shell.execute_reply": "2022-11-15T08:43:17.147639Z",
     "shell.execute_reply.started": "2022-11-15T08:43:17.138487Z"
    },
    "tags": []
   },
   "outputs": [
    {
     "data": {
      "text/plain": [
       "\"Aalborg Universitet \\nFredrik Bajers Vej 7 K \\n9220 Aalborg Øst \\nAtt.: John Klausen, Professor \\n(mso), ph.d.  \\n\\n10. oktober 2022 \\n\\nJ.nr. 22-40320 \\n\\nAnkestyrelsen \\n\\n7998 Statsservice \\n\\nTel  +45 3341 1200 \\n\\nast@ast.dk \\nsikkermail@ast.dk \\n\\nEAN-nr:  \\n57 98 000 35 48 21 \\n\\nÅbningstid: \\n\\nman-fre kl. 9.00-15.00 \\n\\n    Ifølge aftale, Att.: {medarbejdernavn og afdeling}  \\n\\n    Med henvisning til cpr-nummer./sagsnummer. {} \\n\\n    Til vores møde \\n\\n    Som svar på brev/mail fra den {} \\n\\n    Til orientering \\n\\n    Til eventuelle bemærkninger \\n\\n    Til godkendelse \\n\\n    Om fakturanr. {} \\n\\n    Tak for lån \\n\\n    På baggrund af din bestilling \\n\\n    Vi beder om bilaget retur, udfyldt og underskrevet senest den \\n{dato} \\n\\nHermed fremsendes del 5 af aktindsigt i anonymiserede afgørelser om \\nrevalidering. \\n\\nVenlig hilsen \\n\\n \\n \\n \\n \\n \\n \\n  \\n \\n \\n \\n \\n \\n \\n \\n \\n \\n \\n \\n \\n \\n \\n \\n \\n \\n \\n \\n \\n \\n \\n \\n \\n \\n \\n \\n \\n \\n \\n \\n \\n \\n \\n \\n\\x0cAnkestyrelsen \\n\\n  2 \\n\\n \\n\\x0cG'  Ankestyrelsen \\n\\n12. juli 2021 \\n\\nJ.nr. 21-24495 \\n\\nCpr.nr. \\n\\n97\\n\\n0 \\n\\nAnkestyrelsen \\n\\n7998 Statsservice \\n\\nTel  +45 3341 1200 \\n\\nast@ast.dk \\nsikkermail@ast.dk \\n\\nEAN-nr:  \\n57 98 000 35 48 21 \\n\\nÅbningstid: \\nman-fre kl. 9.00-15.00 \\n\\nAfgørelse \\n\\nDu har klaget over Aarhus Kommunes afgørelse om forrevalidering. \\nKommunen afgjorde sagen den 29. april 2021. \\n\\nAnkestyrelsen har nu afgjort din sag. \\n\\nResultatet er: \\n\\n\""
      ]
     },
     "execution_count": 11,
     "metadata": {},
     "output_type": "execute_result"
    }
   ],
   "source": [
    "split[0]"
   ]
  },
  {
   "cell_type": "code",
   "execution_count": 12,
   "id": "f27f5639-d140-450e-871e-f2019f5910f5",
   "metadata": {
    "execution": {
     "iopub.execute_input": "2022-11-15T08:43:19.610921Z",
     "iopub.status.busy": "2022-11-15T08:43:19.610067Z",
     "iopub.status.idle": "2022-11-15T08:43:19.621354Z",
     "shell.execute_reply": "2022-11-15T08:43:19.619716Z",
     "shell.execute_reply.started": "2022-11-15T08:43:19.610863Z"
    },
    "tags": []
   },
   "outputs": [
    {
     "data": {
      "text/plain": [
       "'\\uf020 Du har ikke ret til forrevalidering. \\n\\nDet betyder at vi stadfæster kommunens afgørelse, da vi er kommet til \\nsamme resultat. \\n\\nDet betyder også, at du ikke har ret til et \\nforrevalidering.  \\n\\n som led i en \\n\\nVi kritiserer, at kommunen har angivet et mangelfuldt retsgrundlag i \\nafgørelsen. Vi kritiserer også, at kommunen ved oversendelse af sagen til \\nAnkestyrelsen ikke har medsendt alle de relevante akter. Det fører ikke til \\net andet resultat. \\n\\nPå de næste sider kan du læse mere om afgørelsen. \\n\\nVenlig hilsen \\n\\nPer Anthony \\n\\n \\n \\n \\n \\n \\n \\n  \\n \\n \\n \\n \\n \\n \\n \\n \\n \\n \\n \\n \\n \\n \\n \\n \\n \\n \\n \\n \\n \\n\\x0cBegrundelse for afgørelsen  \\n\\nSådan vurderer vi sagen \\nAnkestyrelsen vurderer, at du ikke har ret til et \\nforrevalidering.  \\n\\n som led i en \\n\\nHvad er afgørende for resultat \\nDet fremgår af sagen, at du siden 2014 har boet på \\ndu den 1. oktober 2018 fik bevilget forrevalidering. Du har under dit forløb \\npå \\nat starte på et \\n\\n færdiggjort 9. klasses afgangseksamen. Du ønsker nu  \\n som led i en forrevalidering. \\n\\n og at \\n\\nVi lægger vægt på, at det fremgår af de lægelige oplysninger, at du i 2013 \\nblev diagnosticeret med \\n\\nVi lægger også vægt på, at det fremgår af sagen, at du er usikker på, hvad \\ndu ønsker at læse videre til efter din \\nmåske ønsker at læse til \\n\\n eller andet inden for \\n\\n Du har oplyst, at du \\n\\nVi lægger videre vægt på, at du ikke har erfaring med at indgå i et \\nordinært uddannelsesregi uden støtte. \\n\\nVi lægger ligeledes vægt på, at kommunen vurderer, at der er behov for at \\nbrancheafklare dig via en virksomhedspraktik eller en uddannelseslinje via \\njobcentrets tilbud. \\n\\nVi bemærker i den forbindelse, at hjælp til revalidering er subsidiær i \\nforhold til almindelige uddannelses- og arbejdsmarkedsordninger. \\nRevalidering bruges, når øvrige beskæftigelsesrettede indsatser efter \\nbeskæftigelsesindsatsloven eller andre indsatser efter anden lovgivning \\nikke er tilstrækkelige til, at personen kan bringes til at forsørge sig selv. \\n\\nVi forudsætter, at kommunen i samarbejde med dig tager stilling til det \\nvidere forløb i sagen. \\n\\nOm reglerne \\nRevalidering er erhvervsrettede aktiviteter og økonomisk hjælp, der kan \\nbidrage til, at en person med begrænsninger i arbejdsevnen, herunder \\npersoner, der er berettiget til ledighedsydelse, fastholdes eller kommer ind \\npå arbejdsmarkedet, således at den pågældendes mulighed for at forsørge \\nsig selv og sin familie forbedres. \\n\\n  2 \\n\\n \\n \\n \\n \\n \\n \\n  \\n \\n \\n \\n \\n \\n \\n\\x0cKommunen giver tilbud om revalidering, når erhvervsrettede aktiviteter \\nefter aktivloven eller anden lovgivning, herunder lov om en aktiv \\nbeskæftigelsesindsats, ikke er tilstrækkelige til, at den pågældende kan \\nklare sig selv.  \\n\\nPersoner, som er i målgruppen for revalidering, men som har behov for et \\nafklarende forløb til at fastlægge det beskæftigelsesmæssige sigte, kan \\nsom forrevalidering få tilbud om virksomhedspraktik, ansættelse med \\nløntilskud samt vejledning og opkvalificering med et \\nbeskæftigelsesmodnende eller afklarende formål, inden den egentlige \\nrevalidering iværksættes. \\n\\nDet fremgår af principmeddelelse A-5-99, at det ikke kunne pålægges \\nkommunen at yde ansøger hjælp til ophold på et erhvervstræningscenter. \\nDer blev herved lagt vægt på, at for, at der kan være tale om \\nforrevalidering, skal tilbuddet have et afklarende og erhvervsmodnende \\nsigte. \\n\\nEfter oplysningerne om ansøgers behov for revalidering og oplysningerne \\nom de tilbud, der blev givet på erhvervstræningscentret, fandt \\nAnkestyrelsen ikke grundlag for at tilsidesætte kommunens skøn om at \\nansøger ikke var berettiget til revalideringshjælp til ophold på centret som \\nulovligt eller åbenbart urimeligt. \\n\\nBemærkninger til klagen \\n\\nKommunen har i genvurderingen forholdt sig til dine klagepunkter. Vi har \\nikke yderligere bemærkninger og henviser til begrundelsen for vores \\nafgørelse. \\n\\nBemærkninger til kommunen \\n\\nVi kritiserer, at kommunen har angivet et mangelfuldt retsgrundlag i \\nafgørelsen. Kommunen burde have henvist til § 144, om forrevalidering. \\n\\nDet har ikke betydning for afgørelsens resultat. Grunden er, at vi har \\nhenvist til det korrekte retsgrundlag i vores afgørelse. \\n\\nVi kritiserer også, at kommunen ved oversendelse af sagen til Ankestyrelsen \\nikke har medsendt alle de relevante akter. Det har ikke betydning for \\nafgørelsens resultat. Grunden er, at kommunen efterfølgende har eftersendt \\nde relevante akter. \\n\\n  3 \\n\\n \\n \\n \\n \\n \\n \\n \\n \\n \\n \\n \\n\\x0cOplysninger i sagen \\n\\nVi har afgjort sagen ud fra: \\n\\n'"
      ]
     },
     "execution_count": 12,
     "metadata": {},
     "output_type": "execute_result"
    }
   ],
   "source": [
    "split[1]"
   ]
  },
  {
   "cell_type": "code",
   "execution_count": 55,
   "id": "2816d285-0c25-40cf-9aa1-2868730e2dc0",
   "metadata": {
    "execution": {
     "iopub.execute_input": "2022-11-15T09:46:55.327318Z",
     "iopub.status.busy": "2022-11-15T09:46:55.326661Z",
     "iopub.status.idle": "2022-11-15T09:46:55.346993Z",
     "shell.execute_reply": "2022-11-15T09:46:55.346187Z",
     "shell.execute_reply.started": "2022-11-15T09:46:55.327264Z"
    },
    "tags": []
   },
   "outputs": [],
   "source": []
  },
  {
   "cell_type": "code",
   "execution_count": null,
   "id": "8b67260a-82ae-47f9-b236-3c8c5e6ab501",
   "metadata": {
    "tags": []
   },
   "outputs": [],
   "source": []
  },
  {
   "cell_type": "code",
   "execution_count": 11,
   "id": "621a6aeb-e4e3-444f-95b3-143b2abe85f6",
   "metadata": {
    "execution": {
     "iopub.execute_input": "2022-11-16T08:09:48.878164Z",
     "iopub.status.busy": "2022-11-16T08:09:48.876475Z",
     "iopub.status.idle": "2022-11-16T08:09:48.890697Z",
     "shell.execute_reply": "2022-11-16T08:09:48.889586Z",
     "shell.execute_reply.started": "2022-11-16T08:09:48.878098Z"
    },
    "tags": []
   },
   "outputs": [],
   "source": [
    "a_text = str(a_text) \n",
    "a_text_ny = a_text.replace( \")\", \"\"), a_text.replace( \"(\", \"\")\n",
    "a_text_ny = str(a_text_ny)"
   ]
  },
  {
   "cell_type": "code",
   "execution_count": 83,
   "id": "ca05a02e-9aa7-42e7-9002-d7700f9b0f3f",
   "metadata": {
    "execution": {
     "iopub.execute_input": "2022-11-16T09:48:04.762254Z",
     "iopub.status.busy": "2022-11-16T09:48:04.761601Z",
     "iopub.status.idle": "2022-11-16T09:48:04.769643Z",
     "shell.execute_reply": "2022-11-16T09:48:04.768131Z",
     "shell.execute_reply.started": "2022-11-16T09:48:04.762198Z"
    },
    "tags": []
   },
   "outputs": [],
   "source": [
    "alder_re = r\"(\\bCpr\\b)\\s\\s[0-9]{2}\""
   ]
  },
  {
   "cell_type": "code",
   "execution_count": 14,
   "id": "3a4b2fc9-3f95-450e-99b1-0ade61e00ea1",
   "metadata": {
    "execution": {
     "iopub.execute_input": "2022-11-16T08:16:25.419855Z",
     "iopub.status.busy": "2022-11-16T08:16:25.418292Z",
     "iopub.status.idle": "2022-11-16T08:16:25.426092Z",
     "shell.execute_reply": "2022-11-16T08:16:25.424767Z",
     "shell.execute_reply.started": "2022-11-16T08:16:25.419791Z"
    },
    "tags": []
   },
   "outputs": [],
   "source": [
    "kommune_re = r\"[A-Z\\w+\\s\\[K]\\w+\\]\""
   ]
  },
  {
   "cell_type": "code",
   "execution_count": 81,
   "id": "c6bc3365-bf93-40ff-a5b1-db04d4769001",
   "metadata": {
    "execution": {
     "iopub.execute_input": "2022-11-16T09:32:28.798047Z",
     "iopub.status.busy": "2022-11-16T09:32:28.786778Z",
     "iopub.status.idle": "2022-11-16T09:32:28.812466Z",
     "shell.execute_reply": "2022-11-16T09:32:28.809707Z",
     "shell.execute_reply.started": "2022-11-16T09:32:28.797675Z"
    },
    "tags": []
   },
   "outputs": [],
   "source": [
    "journalnr_re = r\"(J\\.nr\\b\\[0-9]+\\-\\[0-9]+)\""
   ]
  },
  {
   "cell_type": "code",
   "execution_count": 82,
   "id": "4e53a288-fa8d-4d22-92f4-e95f5ddf46c9",
   "metadata": {
    "execution": {
     "iopub.execute_input": "2022-11-16T09:32:35.539192Z",
     "iopub.status.busy": "2022-11-16T09:32:35.538532Z",
     "iopub.status.idle": "2022-11-16T09:32:35.547105Z",
     "shell.execute_reply": "2022-11-16T09:32:35.545308Z",
     "shell.execute_reply.started": "2022-11-16T09:32:35.539136Z"
    },
    "tags": []
   },
   "outputs": [],
   "source": [
    "re.match(journalnr_re, a_text_ny)"
   ]
  },
  {
   "cell_type": "code",
   "execution_count": 71,
   "id": "791a2c22-b431-4500-a2b0-a1f88852cc34",
   "metadata": {
    "execution": {
     "iopub.execute_input": "2022-11-16T09:29:04.214359Z",
     "iopub.status.busy": "2022-11-16T09:29:04.213632Z",
     "iopub.status.idle": "2022-11-16T09:29:04.226227Z",
     "shell.execute_reply": "2022-11-16T09:29:04.225327Z",
     "shell.execute_reply.started": "2022-11-16T09:29:04.214294Z"
    },
    "tags": []
   },
   "outputs": [
    {
     "data": {
      "text/plain": [
       "['Cpr.nr.',\n",
       " 'Cpr.nr.',\n",
       " 'Cpr nr.',\n",
       " 'Cpr.nr.',\n",
       " 'Cpr.nr.',\n",
       " 'Cpr.nr.',\n",
       " 'Cpr.nr.',\n",
       " 'Cpr nr.',\n",
       " 'Cpr.nr.',\n",
       " 'Cpr.nr.']"
      ]
     },
     "execution_count": 71,
     "metadata": {},
     "output_type": "execute_result"
    }
   ],
   "source": [
    "re.findall('Cpr.nr.', a_text_ny)"
   ]
  },
  {
   "cell_type": "code",
   "execution_count": 84,
   "id": "36f19248-57ee-492b-b097-465073ed282c",
   "metadata": {
    "execution": {
     "iopub.execute_input": "2022-11-16T09:48:10.504788Z",
     "iopub.status.busy": "2022-11-16T09:48:10.504108Z",
     "iopub.status.idle": "2022-11-16T09:48:10.522291Z",
     "shell.execute_reply": "2022-11-16T09:48:10.521359Z",
     "shell.execute_reply.started": "2022-11-16T09:48:10.504729Z"
    },
    "tags": []
   },
   "outputs": [
    {
     "data": {
      "text/plain": [
       "[]"
      ]
     },
     "execution_count": 84,
     "metadata": {},
     "output_type": "execute_result"
    }
   ],
   "source": [
    "re.findall(alder_re, a_text_ny)"
   ]
  },
  {
   "cell_type": "code",
   "execution_count": null,
   "id": "212a488c-5e99-4e72-a9e2-71976608e7e6",
   "metadata": {
    "tags": []
   },
   "outputs": [],
   "source": []
  },
  {
   "cell_type": "code",
   "execution_count": null,
   "id": "ed6b6c03-cdca-400d-b67f-62b1259479ff",
   "metadata": {
    "tags": []
   },
   "outputs": [],
   "source": []
  },
  {
   "cell_type": "code",
   "execution_count": 18,
   "id": "ca2448a6-cf63-4bf7-b2ea-f9951a3525ee",
   "metadata": {
    "execution": {
     "iopub.execute_input": "2022-11-15T08:43:46.195925Z",
     "iopub.status.busy": "2022-11-15T08:43:46.195257Z",
     "iopub.status.idle": "2022-11-15T08:43:46.204290Z",
     "shell.execute_reply": "2022-11-15T08:43:46.202662Z",
     "shell.execute_reply.started": "2022-11-15T08:43:46.195869Z"
    },
    "tags": []
   },
   "outputs": [],
   "source": []
  },
  {
   "cell_type": "code",
   "execution_count": null,
   "id": "4e2ec507-38a1-4d09-af4c-3195273ec743",
   "metadata": {},
   "outputs": [],
   "source": []
  }
 ],
 "metadata": {
  "kernelspec": {
   "display_name": "Python 3 ",
   "language": "python",
   "name": "python3"
  },
  "language_info": {
   "codemirror_mode": {
    "name": "ipython",
    "version": 3
   },
   "file_extension": ".py",
   "mimetype": "text/x-python",
   "name": "python",
   "nbconvert_exporter": "python",
   "pygments_lexer": "ipython3",
   "version": "3.10.6"
  }
 },
 "nbformat": 4,
 "nbformat_minor": 5
}

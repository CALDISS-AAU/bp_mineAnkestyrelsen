{
 "cells": [
  {
   "cell_type": "code",
   "execution_count": 2,
   "id": "9067942e-52e1-4db3-81cd-8eac63a08ad3",
   "metadata": {
    "execution": {
     "iopub.execute_input": "2022-11-30T11:48:29.434289Z",
     "iopub.status.busy": "2022-11-30T11:48:29.432722Z",
     "iopub.status.idle": "2022-11-30T11:48:29.665781Z",
     "shell.execute_reply": "2022-11-30T11:48:29.665131Z",
     "shell.execute_reply.started": "2022-11-30T11:48:29.434195Z"
    },
    "tags": []
   },
   "outputs": [],
   "source": [
    "import re\n",
    "import os\n",
    "from os.path import join\n",
    "import json\n",
    "import pandas as pd"
   ]
  },
  {
   "cell_type": "code",
   "execution_count": 92,
   "id": "2bcbcf41-3c05-496d-91a2-d1fb0659fbec",
   "metadata": {
    "execution": {
     "iopub.execute_input": "2022-11-30T12:47:05.045683Z",
     "iopub.status.busy": "2022-11-30T12:47:05.045042Z",
     "iopub.status.idle": "2022-11-30T12:47:05.135760Z",
     "shell.execute_reply": "2022-11-30T12:47:05.134811Z",
     "shell.execute_reply.started": "2022-11-30T12:47:05.045627Z"
    },
    "tags": []
   },
   "outputs": [],
   "source": [
    "data_p = join('..', 'data', 'afgørelser_split.json')\n",
    "output_p = join('..', 'output')\n",
    "\n",
    "with open(data_p, 'r') as f:\n",
    "    data = json.load(f)"
   ]
  },
  {
   "cell_type": "code",
   "execution_count": 4,
   "id": "b17f4a34-a8c7-49ca-bb87-db61e5825bad",
   "metadata": {
    "execution": {
     "iopub.execute_input": "2022-11-30T11:48:31.876704Z",
     "iopub.status.busy": "2022-11-30T11:48:31.876243Z",
     "iopub.status.idle": "2022-11-30T11:48:31.884990Z",
     "shell.execute_reply": "2022-11-30T11:48:31.883822Z",
     "shell.execute_reply.started": "2022-11-30T11:48:31.876677Z"
    },
    "tags": []
   },
   "outputs": [],
   "source": [
    "# regexes\n",
    "cpr_re = re.compile(r'\\nCpr\\.\\s?nr\\.\\s+(\\d+)\\s+(\\d+)', re.IGNORECASE)\n",
    "kommune_re = re.compile(r'Du har klaget over ([a-zæøå]+(?:\\-[a-zæøå]+)?)\\s\\s?[K]\\w+', re.IGNORECASE)\n",
    "jnr_re = re.compile(r'j\\.nr\\.?\\s+([0-9]+\\-[0-9]+)', re.IGNORECASE)\n",
    "caseworker_re = re.compile(r'venlig hilsen\\s{1,5}([a-zæøå]+\\s[a-zæøå]+(\\s[a-zæøå]+)?)', re.IGNORECASE)"
   ]
  },
  {
   "cell_type": "code",
   "execution_count": 106,
   "id": "58dc047c-4f8c-4a7d-be3c-9b0c1fc5937a",
   "metadata": {
    "execution": {
     "iopub.execute_input": "2022-11-30T12:55:33.107944Z",
     "iopub.status.busy": "2022-11-30T12:55:33.104949Z",
     "iopub.status.idle": "2022-11-30T12:55:33.121678Z",
     "shell.execute_reply": "2022-11-30T12:55:33.120927Z",
     "shell.execute_reply.started": "2022-11-30T12:55:33.107694Z"
    },
    "tags": []
   },
   "outputs": [],
   "source": [
    "def get_info(text):\n",
    "    \n",
    "    info_dict = {}\n",
    "    \n",
    "    try:\n",
    "        jnr = jnr_re.search(text).group(1)\n",
    "    except:\n",
    "        jnr = 'not found'\n",
    "        \n",
    "    try:\n",
    "        birthyear = cpr_re.search(text).group(1)\n",
    "        if int(birthyear) > 21:\n",
    "            birthyear = '19' + birthyear\n",
    "        else:\n",
    "            birthyear = '20' + birthyear\n",
    "        \n",
    "    except:\n",
    "        birthyear = 'not found'\n",
    "        \n",
    "    try:\n",
    "        gender = cpr_re.search(text).group(2)\n",
    "        \n",
    "        if int(gender) % 2 == 0:\n",
    "            gender = 'female'\n",
    "        else:\n",
    "            gender = 'male'\n",
    "            \n",
    "    except:\n",
    "        gender = 'not found'\n",
    "    \n",
    "    try:\n",
    "        kommune = kommune_re.search(text).group(1)\n",
    "    except:\n",
    "        kommune = 'not found'\n",
    "    \n",
    "    try:\n",
    "        caseworker = caseworker_re.search(text).group(1)\n",
    "    except:\n",
    "        caseworker = 'not found'\n",
    "    \n",
    "    info_dict['jnr'] = jnr\n",
    "    info_dict['birthyear'] = birthyear\n",
    "    info_dict['gender'] = gender\n",
    "    info_dict['kommune'] = kommune\n",
    "    info_dict['caseworker'] = caseworker\n",
    "    \n",
    "    return(info_dict)"
   ]
  },
  {
   "cell_type": "code",
   "execution_count": 107,
   "id": "868fcc75-21b4-40fd-b0fc-aeb856c9c3eb",
   "metadata": {
    "execution": {
     "iopub.execute_input": "2022-11-30T12:55:33.714253Z",
     "iopub.status.busy": "2022-11-30T12:55:33.714067Z",
     "iopub.status.idle": "2022-11-30T12:55:33.731993Z",
     "shell.execute_reply": "2022-11-30T12:55:33.731209Z",
     "shell.execute_reply.started": "2022-11-30T12:55:33.714235Z"
    },
    "tags": []
   },
   "outputs": [],
   "source": [
    "for entry in data:\n",
    "    entry.update(get_info(entry.get('text')))"
   ]
  },
  {
   "cell_type": "code",
   "execution_count": 108,
   "id": "0dd674b9-8e3a-42a4-8d14-389a726dff26",
   "metadata": {
    "execution": {
     "iopub.execute_input": "2022-11-30T12:55:34.361070Z",
     "iopub.status.busy": "2022-11-30T12:55:34.360792Z",
     "iopub.status.idle": "2022-11-30T12:55:34.366406Z",
     "shell.execute_reply": "2022-11-30T12:55:34.365835Z",
     "shell.execute_reply.started": "2022-11-30T12:55:34.361049Z"
    },
    "tags": []
   },
   "outputs": [],
   "source": [
    "info_df = pd.DataFrame.from_records(data)\n",
    "info_df = info_df[['filename', 'n', 'jnr', 'birthyear', 'gender', 'kommune', 'caseworker']]"
   ]
  },
  {
   "cell_type": "code",
   "execution_count": 109,
   "id": "0e273486-93d8-4586-90ef-778705f43e09",
   "metadata": {
    "execution": {
     "iopub.execute_input": "2022-11-30T12:55:34.415088Z",
     "iopub.status.busy": "2022-11-30T12:55:34.414518Z",
     "iopub.status.idle": "2022-11-30T12:55:34.430565Z",
     "shell.execute_reply": "2022-11-30T12:55:34.429880Z",
     "shell.execute_reply.started": "2022-11-30T12:55:34.415035Z"
    },
    "tags": []
   },
   "outputs": [
    {
     "data": {
      "text/html": [
       "<div>\n",
       "<style scoped>\n",
       "    .dataframe tbody tr th:only-of-type {\n",
       "        vertical-align: middle;\n",
       "    }\n",
       "\n",
       "    .dataframe tbody tr th {\n",
       "        vertical-align: top;\n",
       "    }\n",
       "\n",
       "    .dataframe thead th {\n",
       "        text-align: right;\n",
       "    }\n",
       "</style>\n",
       "<table border=\"1\" class=\"dataframe\">\n",
       "  <thead>\n",
       "    <tr style=\"text-align: right;\">\n",
       "      <th></th>\n",
       "      <th>filename</th>\n",
       "      <th>n</th>\n",
       "      <th>jnr</th>\n",
       "      <th>birthyear</th>\n",
       "      <th>gender</th>\n",
       "      <th>kommune</th>\n",
       "      <th>caseworker</th>\n",
       "    </tr>\n",
       "  </thead>\n",
       "  <tbody>\n",
       "    <tr>\n",
       "      <th>0</th>\n",
       "      <td>5 - Brev fra Ankestyrelsen (D3165783).pdf</td>\n",
       "      <td>1</td>\n",
       "      <td>21-24495</td>\n",
       "      <td>1997</td>\n",
       "      <td>female</td>\n",
       "      <td>Aarhus</td>\n",
       "      <td>Per Anthony</td>\n",
       "    </tr>\n",
       "    <tr>\n",
       "      <th>1</th>\n",
       "      <td>5 - Brev fra Ankestyrelsen (D3165783).pdf</td>\n",
       "      <td>2</td>\n",
       "      <td>21-24846</td>\n",
       "      <td>1979</td>\n",
       "      <td>female</td>\n",
       "      <td>Viborg</td>\n",
       "      <td>Per Anthony</td>\n",
       "    </tr>\n",
       "    <tr>\n",
       "      <th>2</th>\n",
       "      <td>5 - Brev fra Ankestyrelsen (D3165783).pdf</td>\n",
       "      <td>3</td>\n",
       "      <td>21-22188</td>\n",
       "      <td>1986</td>\n",
       "      <td>female</td>\n",
       "      <td>Ringkøbing-Skjern</td>\n",
       "      <td>Freja Lee Lilja</td>\n",
       "    </tr>\n",
       "    <tr>\n",
       "      <th>3</th>\n",
       "      <td>5 - Brev fra Ankestyrelsen (D3165783).pdf</td>\n",
       "      <td>4</td>\n",
       "      <td>21-23191</td>\n",
       "      <td>1978</td>\n",
       "      <td>female</td>\n",
       "      <td>Horsens</td>\n",
       "      <td>Nuzaht Yasmin Ahmad</td>\n",
       "    </tr>\n",
       "    <tr>\n",
       "      <th>4</th>\n",
       "      <td>5 - Brev fra Ankestyrelsen (D3165783).pdf</td>\n",
       "      <td>5</td>\n",
       "      <td>21-23206</td>\n",
       "      <td>1989</td>\n",
       "      <td>male</td>\n",
       "      <td>Glostrup</td>\n",
       "      <td>Per Anthony</td>\n",
       "    </tr>\n",
       "  </tbody>\n",
       "</table>\n",
       "</div>"
      ],
      "text/plain": [
       "                                    filename  n       jnr birthyear  gender  \\\n",
       "0  5 - Brev fra Ankestyrelsen (D3165783).pdf  1  21-24495      1997  female   \n",
       "1  5 - Brev fra Ankestyrelsen (D3165783).pdf  2  21-24846      1979  female   \n",
       "2  5 - Brev fra Ankestyrelsen (D3165783).pdf  3  21-22188      1986  female   \n",
       "3  5 - Brev fra Ankestyrelsen (D3165783).pdf  4  21-23191      1978  female   \n",
       "4  5 - Brev fra Ankestyrelsen (D3165783).pdf  5  21-23206      1989    male   \n",
       "\n",
       "             kommune           caseworker  \n",
       "0             Aarhus          Per Anthony  \n",
       "1             Viborg          Per Anthony  \n",
       "2  Ringkøbing-Skjern      Freja Lee Lilja  \n",
       "3            Horsens  Nuzaht Yasmin Ahmad  \n",
       "4           Glostrup          Per Anthony  "
      ]
     },
     "execution_count": 109,
     "metadata": {},
     "output_type": "execute_result"
    }
   ],
   "source": [
    "info_df.head()"
   ]
  },
  {
   "cell_type": "code",
   "execution_count": 110,
   "id": "0d495513-3119-4a1f-89f1-cda6bfc337f1",
   "metadata": {
    "execution": {
     "iopub.execute_input": "2022-11-30T12:55:36.495194Z",
     "iopub.status.busy": "2022-11-30T12:55:36.494554Z",
     "iopub.status.idle": "2022-11-30T12:55:36.567835Z",
     "shell.execute_reply": "2022-11-30T12:55:36.566986Z",
     "shell.execute_reply.started": "2022-11-30T12:55:36.495137Z"
    },
    "tags": []
   },
   "outputs": [],
   "source": [
    "## begrundelser\n",
    "### - Vi lægger vægt …\n",
    "### - Vi lægger også vægt på … \n",
    "### - Vi lægger desuden vægt på …\n",
    "\n",
    "important_regex = re.compile(r'(?<=\\n)(vi lægger (?:\\w{3,10})? ?vægt på.*?)(?=\\s{1,3}\\n\\s{1,3}\\n)', re.IGNORECASE|re.DOTALL) \n",
    "\n",
    "grounds = []\n",
    "for entry in data:\n",
    "    \n",
    "    grounds_entry = {'jnr': entry.get('jnr'),\n",
    "                     'grounds': important_regex.findall(entry.get('text'))}\n",
    "    \n",
    "    grounds.append(grounds_entry)\n",
    "    \n",
    "    \n",
    "grounds_df = pd.DataFrame.from_records(grounds)\n",
    "grounds_df = grounds_df.explode('grounds')\n",
    "grounds_df = grounds_df.loc[~grounds_df['grounds'].isna(),:]"
   ]
  },
  {
   "cell_type": "code",
   "execution_count": 112,
   "id": "bb14f9c4-726a-4a0e-bb39-2552698e7dbd",
   "metadata": {
    "execution": {
     "iopub.execute_input": "2022-11-30T12:55:41.759881Z",
     "iopub.status.busy": "2022-11-30T12:55:41.759517Z",
     "iopub.status.idle": "2022-11-30T12:55:41.849698Z",
     "shell.execute_reply": "2022-11-30T12:55:41.847799Z",
     "shell.execute_reply.started": "2022-11-30T12:55:41.759858Z"
    },
    "tags": []
   },
   "outputs": [],
   "source": [
    "# export\n",
    "\n",
    "info_out = join(output_p, 'afgørelser_oversigt.xlsx')\n",
    "grounds_out = join(output_p, 'agørelser_begrundelser.xlsx')\n",
    "\n",
    "info_df.to_excel(info_out, index = False)\n",
    "grounds_df.to_excel(grounds_out, index = False)"
   ]
  }
 ],
 "metadata": {
  "kernelspec": {
   "display_name": "Python 3 ",
   "language": "python",
   "name": "python3"
  },
  "language_info": {
   "codemirror_mode": {
    "name": "ipython",
    "version": 3
   },
   "file_extension": ".py",
   "mimetype": "text/x-python",
   "name": "python",
   "nbconvert_exporter": "python",
   "pygments_lexer": "ipython3",
   "version": "3.10.6"
  }
 },
 "nbformat": 4,
 "nbformat_minor": 5
}

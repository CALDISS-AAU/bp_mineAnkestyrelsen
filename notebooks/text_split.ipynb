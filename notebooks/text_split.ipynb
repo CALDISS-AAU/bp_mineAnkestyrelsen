{
 "cells": [
  {
   "cell_type": "code",
   "execution_count": 75,
   "id": "6273bc15-c109-407b-8632-f0fd8fb4dcad",
   "metadata": {
    "execution": {
     "iopub.execute_input": "2022-11-21T16:46:01.150248Z",
     "iopub.status.busy": "2022-11-21T16:46:01.149662Z",
     "iopub.status.idle": "2022-11-21T16:48:08.673693Z",
     "shell.execute_reply": "2022-11-21T16:48:08.672935Z",
     "shell.execute_reply.started": "2022-11-21T16:46:01.150194Z"
    },
    "tags": []
   },
   "outputs": [],
   "source": [
    "from pdfminer.high_level import extract_text\n",
    "import re\n",
    "import os\n",
    "from os.path import join\n",
    "import json\n",
    "import unicodedata\n",
    "from PyPDF2 import PdfReader\n",
    "\n",
    "def pdf_reader(pdf):\n",
    "    \n",
    "    reader = PdfReader(pdf)\n",
    "    pages = [page.extract_text() for page in reader.pages]\n",
    "    pdf_text = '{PB}'.join(pages)\n",
    "    \n",
    "    return(pdf_text)\n",
    "\n",
    "data_dir = join('..', 'data')\n",
    "pdf_files = [file for file in os.listdir(data_dir) if file.endswith('.pdf')]\n",
    "\n",
    "all_files = []\n",
    "\n",
    "for pdf in pdf_files:\n",
    "    pdf_dic = {}\n",
    "    \n",
    "    file_p = join(data_dir, pdf)\n",
    "    text_pdfminer = extract_text(file_p)\n",
    "    text_pypdf = pdf_reader(file_p)\n",
    "    \n",
    "    pdf_dic['filename'] = pdf\n",
    "    pdf_dic['text_pdfminer'] = text_pdfminer\n",
    "    pdf_dic['text_pypdf'] = text_pypdf\n",
    "    \n",
    "    all_files.append(pdf_dic)"
   ]
  },
  {
   "cell_type": "code",
   "execution_count": 76,
   "id": "0e77066b-8622-4eae-9942-5eac47b0d5c0",
   "metadata": {
    "execution": {
     "iopub.execute_input": "2022-11-21T16:48:17.863945Z",
     "iopub.status.busy": "2022-11-21T16:48:17.863417Z",
     "iopub.status.idle": "2022-11-21T16:48:17.868196Z",
     "shell.execute_reply": "2022-11-21T16:48:17.867248Z",
     "shell.execute_reply.started": "2022-11-21T16:48:17.863907Z"
    },
    "tags": []
   },
   "outputs": [],
   "source": [
    "#all_files[0].get('text')"
   ]
  },
  {
   "cell_type": "code",
   "execution_count": 77,
   "id": "b462c30d-1587-4c7d-a72c-f771213fc815",
   "metadata": {
    "execution": {
     "iopub.execute_input": "2022-11-21T16:48:18.476296Z",
     "iopub.status.busy": "2022-11-21T16:48:18.475890Z",
     "iopub.status.idle": "2022-11-21T16:48:18.479848Z",
     "shell.execute_reply": "2022-11-21T16:48:18.479136Z",
     "shell.execute_reply.started": "2022-11-21T16:48:18.476267Z"
    },
    "tags": []
   },
   "outputs": [],
   "source": [
    "n_total = 227 # der bør være 227 afgørelser i alt"
   ]
  },
  {
   "cell_type": "code",
   "execution_count": 78,
   "id": "150340ab-0db9-435c-a0e7-2926eb0d62a4",
   "metadata": {
    "execution": {
     "iopub.execute_input": "2022-11-21T16:48:20.057194Z",
     "iopub.status.busy": "2022-11-21T16:48:20.056667Z",
     "iopub.status.idle": "2022-11-21T16:48:20.069134Z",
     "shell.execute_reply": "2022-11-21T16:48:20.067853Z",
     "shell.execute_reply.started": "2022-11-21T16:48:20.057157Z"
    },
    "tags": []
   },
   "outputs": [],
   "source": [
    "def is_pua(c): #https://stackoverflow.com/questions/56337705/removing-all-invalid-characters-e-g-uf0b7-from-text\n",
    "    return unicodedata.category(c) in ['Co', 'Cc', 'Cf', 'Cs', 'Co', 'Cn']\n",
    "\n",
    "def text_splitter(text_dict):\n",
    "    #pattern = re.compile(r'\\s{0,5}\\n(?=\\s{0,4}Ankestyrelsen\\s{0,4}\\n)', re.DOTALL)\n",
    "    #pattern = re.compile(r'\\s{0,5}\\n\\s{0,5}A ?n ?k ?e ?s ?t ?y ?r ?e ?l ?s ?e ?n ?\\s{0,5}\\n\\s{0,5}(?!.{0,2}7998)', re.DOTALL)\n",
    "    pattern = re.compile(r'{PB}(?=.{0,500}A\\s?f\\s?g\\s?ø\\s?r\\s?e\\s?l\\s?s\\s?e\\s?r?\\s{0,5}\\n\\s{0,5}D\\s?u\\s? \\s?h\\s?a\\s?r\\s? \\s?k\\s?l\\s?a\\s?g\\s?e\\s?t\\s? \\s?o\\s?v\\s?e\\s?r\\s?)', re.DOTALL)\n",
    "    pattern_replace = re.compile(r'(?<=\\n)G\\'(?=\\s)')\n",
    "    num_sq_replace = re.compile(r'\\[\\s?\\d\\s?\\]')\n",
    "    \n",
    "    text_strip = text_dict.get('text_pypdf')\n",
    "    text_strip = text_strip.replace('\\n', '{LINJESKIFT}')\n",
    "    text_strip = ''.join(c for c in text_strip if not is_pua(c))\n",
    "    text_strip = text_strip.replace('{LINJESKIFT}', '\\n')\n",
    "    text_strip = re.sub(pattern_replace, '', text_strip)\n",
    "    text_strip = re.sub(num_sq_replace, ' ', text_strip)\n",
    "    text_strip = text_strip.replace('  ', ' ')\n",
    "    text_strip = text_strip.replace(' -', '-')\n",
    "    text_strip = text_strip.replace('- ', '-')\n",
    "    \n",
    "    \n",
    "    texts_split = pattern.split(text_strip)\n",
    "    texts_split.pop(0) # første fundet tekst altid overflødig\n",
    "    \n",
    "    texts_return = []\n",
    "    n = 1\n",
    "    for text in texts_split:\n",
    "        if len(text) < 200:\n",
    "            continue\n",
    "        \n",
    "        text_returndict = {'filename': text_dict.get('filename'),\n",
    "                           'text': text,\n",
    "                           'n': n,\n",
    "                           'doc_text': text_dict.get('text_pdfminer')}\n",
    "        \n",
    "        texts_return.append(text_returndict)\n",
    "        \n",
    "        n = n + 1\n",
    "    \n",
    "    return(texts_return)"
   ]
  },
  {
   "cell_type": "code",
   "execution_count": 79,
   "id": "fe27f241-e594-4cc9-b75b-f288fb572191",
   "metadata": {
    "execution": {
     "iopub.execute_input": "2022-11-21T16:48:25.459634Z",
     "iopub.status.busy": "2022-11-21T16:48:25.459126Z",
     "iopub.status.idle": "2022-11-21T16:48:26.491243Z",
     "shell.execute_reply": "2022-11-21T16:48:26.490542Z",
     "shell.execute_reply.started": "2022-11-21T16:48:25.459598Z"
    },
    "tags": []
   },
   "outputs": [],
   "source": [
    "texts_combined = []\n",
    "\n",
    "for file in all_files:\n",
    "    \n",
    "    texts = text_splitter(file)\n",
    "    \n",
    "    texts_combined = texts_combined + texts"
   ]
  },
  {
   "cell_type": "code",
   "execution_count": 80,
   "id": "0baeb61b-ea32-403a-b988-63a8a9bf56db",
   "metadata": {
    "execution": {
     "iopub.execute_input": "2022-11-21T16:48:29.221829Z",
     "iopub.status.busy": "2022-11-21T16:48:29.221256Z",
     "iopub.status.idle": "2022-11-21T16:48:29.227657Z",
     "shell.execute_reply": "2022-11-21T16:48:29.226722Z",
     "shell.execute_reply.started": "2022-11-21T16:48:29.221787Z"
    },
    "tags": []
   },
   "outputs": [
    {
     "name": "stdout",
     "output_type": "stream",
     "text": [
      "Der mangler 39 afgørelser\n"
     ]
    }
   ],
   "source": [
    "print(f'Der mangler {n_total-len(texts_combined)} afgørelser') "
   ]
  },
  {
   "cell_type": "code",
   "execution_count": 81,
   "id": "edd0aa4b-b9ad-4830-8f9a-d1fca5260934",
   "metadata": {
    "execution": {
     "iopub.execute_input": "2022-11-21T16:48:36.842068Z",
     "iopub.status.busy": "2022-11-21T16:48:36.841455Z",
     "iopub.status.idle": "2022-11-21T16:48:37.084751Z",
     "shell.execute_reply": "2022-11-21T16:48:37.083716Z",
     "shell.execute_reply.started": "2022-11-21T16:48:36.842026Z"
    },
    "tags": []
   },
   "outputs": [],
   "source": [
    "out_p = join('..', 'data', 'afgørelser_split.json')\n",
    "\n",
    "with open(out_p, 'w') as f:\n",
    "    json.dump(texts_combined, f)"
   ]
  }
 ],
 "metadata": {
  "kernelspec": {
   "display_name": "Python 3 ",
   "language": "python",
   "name": "python3"
  },
  "language_info": {
   "codemirror_mode": {
    "name": "ipython",
    "version": 3
   },
   "file_extension": ".py",
   "mimetype": "text/x-python",
   "name": "python",
   "nbconvert_exporter": "python",
   "pygments_lexer": "ipython3",
   "version": "3.10.6"
  }
 },
 "nbformat": 4,
 "nbformat_minor": 5
}
